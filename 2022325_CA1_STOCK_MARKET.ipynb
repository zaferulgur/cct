{
 "cells": [
  {
   "cell_type": "markdown",
   "id": "5fc35ce8",
   "metadata": {},
   "source": [
    "# ZAFER ULGUR - 2022325"
   ]
  },
  {
   "cell_type": "markdown",
   "id": "7d696f9a",
   "metadata": {},
   "source": [
    "## MSc in Applied Software Development\n",
    "## Continuous Assessment - 1\n",
    "## Stock Market"
   ]
  },
  {
   "cell_type": "markdown",
   "id": "e6527328",
   "metadata": {},
   "source": [
    "### Information Retrieval and Data Mining"
   ]
  },
  {
   "cell_type": "code",
   "execution_count": null,
   "id": "60035079",
   "metadata": {},
   "outputs": [],
   "source": [
    "#<ZAFER ULGUR>\n",
    "#yahooFinance\n",
    "!pip install -q yfinance\n",
    "#beautifulSoup\n",
    "!pip install bs4\n",
    "#html5lib\n",
    "#!pip install html5lib\n",
    "#linearRegression\n",
    "!pip install statsmodels"
   ]
  },
  {
   "cell_type": "code",
   "execution_count": null,
   "id": "7e001014",
   "metadata": {},
   "outputs": [],
   "source": [
    "#import libs\n",
    "import pandas as pd\n",
    "import numpy as np\n",
    "import seaborn as sns\n",
    "import matplotlib.pyplot as plt\n",
    "import yfinance as yf\n",
    "from pandas_datareader.data import DataReader\n",
    "import requests as req\n",
    "from bs4 import BeautifulSoup\n",
    "import plotly.graph_objects as g\n",
    "from plotly.subplots import make_subplots as sp\n",
    "import statsmodels.formula.api as smf"
   ]
  },
  {
   "cell_type": "code",
   "execution_count": null,
   "id": "da7c7351",
   "metadata": {
    "scrolled": true
   },
   "outputs": [],
   "source": [
    "#getStockItems\n",
    "from datetime import datetime\n",
    "#stockList = ['F', 'BA', 'GM', 'VOD']\n",
    "#stockList = ['f', 'ba', 'gm', 'vod']\n",
    "stockList = []\n",
    "\n",
    "stList = []\n",
    "stList.append(['F','ford'])\n",
    "stList.append(['BA','boeing'])\n",
    "stList.append(['GM','general-motors'])\n",
    "stList.append(['VOD','vodafone'])\n",
    "\n",
    "#print(*stockList)\n",
    "\n",
    "endDate = datetime.now()\n",
    "startDate = datetime(endDate.year - 5, endDate.month, endDate.day)\n",
    "compList = []\n",
    "for stockItem in stList:\n",
    "    globals()[stockItem[0]] = yf.download(stockItem[0], startDate, endDate)\n",
    "    compList.append(globals()[stockItem[0]])\n",
    "    stockList.append(stockItem[0])\n",
    "    print(stockItem[0])"
   ]
  },
  {
   "cell_type": "code",
   "execution_count": null,
   "id": "5a2da7a0",
   "metadata": {},
   "outputs": [],
   "source": [
    "#addColumn for companyName\n",
    "#compList = [F, BA, GM, VOD]\n",
    "\n",
    "for comp, compName in zip(compList, stList):\n",
    "    comp[\"Company\"] = compName[1]\n",
    "df = pd.concat(compList, axis=0)\n",
    "df.tail(10)"
   ]
  },
  {
   "cell_type": "code",
   "execution_count": null,
   "id": "d07f207d",
   "metadata": {},
   "outputs": [],
   "source": [
    "#getStockItemSummary\n",
    "#F.describe()  \n",
    "#BA.describe()  \n",
    "#GM.describe()  \n",
    "VOD.describe()  "
   ]
  },
  {
   "cell_type": "code",
   "execution_count": null,
   "id": "d1cf3c88",
   "metadata": {},
   "outputs": [],
   "source": [
    "#getStockItemInfo\n",
    "print(\"Ford Info\")\n",
    "print(\"--------------\")\n",
    "F.info() \n",
    "#print(\"--------------\")\n",
    "#print(\"Boeing Info\")\n",
    "#print(\"--------------\")\n",
    "#BA.info()\n",
    "#print(\"--------------\")\n",
    "#print(\"G.Motor Info\")\n",
    "#print(\"--------------\")\n",
    "#GM.info()\n",
    "#print(\"--------------\")\n",
    "#print(\"Vodafone Info\")\n",
    "#print(\"--------------\")\n",
    "#VOD.info()"
   ]
  },
  {
   "cell_type": "code",
   "execution_count": null,
   "id": "518a8b90",
   "metadata": {},
   "outputs": [],
   "source": [
    "#HistoricalStockData for procedural paradigm\n",
    "def getStockData(stockList):\n",
    "    historicData = pd.DataFrame()\n",
    "    for i in stockList:\n",
    "        #extractStockData for stockName\n",
    "        stockData = yf.Ticker(i[0])\n",
    "        hist = stockData.history(period='max').Close\n",
    "        historicData[i[0]] = hist \n",
    "    return historicData   "
   ]
  },
  {
   "cell_type": "code",
   "execution_count": null,
   "id": "a04dc77e",
   "metadata": {},
   "outputs": [],
   "source": [
    "historicalStockData = getStockData(stList)\n",
    "historicalStockData.tail(5)"
   ]
  },
  {
   "cell_type": "code",
   "execution_count": null,
   "id": "38513e57",
   "metadata": {},
   "outputs": [],
   "source": [
    "# to csv\n",
    "historicalStockData.to_csv('historic.csv')"
   ]
  },
  {
   "cell_type": "code",
   "execution_count": null,
   "id": "ea89a10c",
   "metadata": {},
   "outputs": [],
   "source": [
    "#read csv\n",
    "dfHist = pd.read_csv('historic.csv')\n",
    "dfHist.head()"
   ]
  },
  {
   "cell_type": "code",
   "execution_count": null,
   "id": "b3f141a9",
   "metadata": {},
   "outputs": [],
   "source": [
    "dfHist.info()"
   ]
  },
  {
   "cell_type": "code",
   "execution_count": null,
   "id": "4aaa7e7c",
   "metadata": {},
   "outputs": [],
   "source": [
    "dfHist.shape"
   ]
  },
  {
   "cell_type": "code",
   "execution_count": null,
   "id": "cb0baf42",
   "metadata": {},
   "outputs": [],
   "source": [
    "dfHist.describe(include=\"all\")"
   ]
  },
  {
   "cell_type": "code",
   "execution_count": null,
   "id": "2b5579f1",
   "metadata": {},
   "outputs": [],
   "source": [
    "#findNullData\n",
    "dfHist.isnull().sum()"
   ]
  },
  {
   "cell_type": "code",
   "execution_count": null,
   "id": "dcd2f562",
   "metadata": {},
   "outputs": [],
   "source": [
    "# replace NA values in GM with \"0\"\n",
    "dfHist[\"GM\"].fillna(0, inplace = True)\n",
    "# replace NA values in VOD with \"0\"\n",
    "dfHist[\"VOD\"].fillna(0, inplace = True)"
   ]
  },
  {
   "cell_type": "code",
   "execution_count": null,
   "id": "d665360c",
   "metadata": {},
   "outputs": [],
   "source": [
    "def getData(sList):\n",
    "    revList = []\n",
    "    rev = pd.DataFrame(columns=[\"Date\", \"Revenue\", \"Company\"])   \n",
    "    for detail in sList:\n",
    "        #crawling area\n",
    "        url=f'https://www.macrotrends.net/stocks/charts/{detail[0]}/{detail[1]}/revenue'\n",
    "        #Save the text of the response\n",
    "        htmlText = req.get(url).text\n",
    "        #Parse the html data using beautiful_soup.\n",
    "        soup = BeautifulSoup(htmlText, \"html.parser\")\n",
    "        tables = soup.find_all('table')\n",
    "        tableIndex=0\n",
    "        for index, table in enumerate(tables):\n",
    "            if ('Annual Revenue'in str(table)):\n",
    "                tableIndex=index\n",
    "        for row in tables[tableIndex].tbody.find_all(\"tr\"):\n",
    "            col = row.find_all(\"td\")\n",
    "            #print(col)\n",
    "            if (col!=[]):\n",
    "                date =col[0].text\n",
    "                # removeDollarComma\n",
    "                revenue =col[1].text.replace(\"$\", \"\").replace(\",\", \"\")\n",
    "                company = detail[1] \n",
    "            #print([{'Date':date,'Revenue':revenue}])\n",
    "            rev = pd.concat([rev, pd.DataFrame.from_records([{'Date':date,'Revenue':revenue, 'Company':company}])])\n",
    "        #print(rev)\n",
    "        # removeNullVal data\n",
    "        rev = rev[rev['Revenue']!='']   \n",
    "    revList.append(rev)\n",
    "    return revList[0]\n",
    "\n",
    "\n",
    "        #print(revList)"
   ]
  },
  {
   "cell_type": "code",
   "execution_count": null,
   "id": "acc0141c",
   "metadata": {},
   "outputs": [],
   "source": [
    "#getRevenueData\n",
    "revenue = getData(stList)"
   ]
  },
  {
   "cell_type": "code",
   "execution_count": null,
   "id": "74db17b6",
   "metadata": {},
   "outputs": [],
   "source": [
    "# displaying List\n",
    "revenue.tail(5)"
   ]
  },
  {
   "cell_type": "code",
   "execution_count": null,
   "id": "f8bbb93c",
   "metadata": {
    "scrolled": false
   },
   "outputs": [],
   "source": [
    "# closingPriceForLastFiveYear\n",
    "r=1\n",
    "sLen=len(compList)\n",
    "if sLen%2==0:\n",
    "    r=sLen/2\n",
    "else:\n",
    "    r=(sLen+1)/2\n",
    "\n",
    "plt.figure(figsize=(15, 10))\n",
    "\n",
    "#fig, ((ax1, ax2), (ax3, ax4)) = plt.subplots(nrows=2, ncols=2)\n",
    "\n",
    "for i, company in enumerate(compList, 1):\n",
    "    plt.subplot(int(r), int(r), i)\n",
    "    company['Adj Close'].plot()\n",
    "    plt.ylabel('Adjusted Close')\n",
    "    plt.xlabel(None)\n",
    "    plt.title(f\"{stList[i - 1][1]}\", fontsize=24)\n",
    "    \n",
    "plt.tight_layout()"
   ]
  },
  {
   "cell_type": "code",
   "execution_count": null,
   "id": "d98c68f6",
   "metadata": {},
   "outputs": [],
   "source": [
    "ma_day = [15, 30, 60]\n",
    "\n",
    "for ma in ma_day:\n",
    "    for comp in compList:\n",
    "        colName = f\"MA for {ma} days\"\n",
    "        comp[colName] = comp['Adj Close'].rolling(ma).mean()"
   ]
  },
  {
   "cell_type": "code",
   "execution_count": null,
   "id": "d0cf954e",
   "metadata": {},
   "outputs": [],
   "source": [
    "fig, axes = plt.subplots(nrows=int(r), ncols=int(r))\n",
    "fig.set_figheight(10)\n",
    "fig.set_figwidth(15)\n",
    "a=0\n",
    "b=0\n",
    "c=0\n",
    "for i in compList:\n",
    "    i[['Adj Close', 'MA for 15 days', 'MA for 30 days', 'MA for 60 days']].plot(ax=axes[int(a),int(b)])\n",
    "    axes[int(a),int(b)].set_title(i.Company.unique()[0])\n",
    "    if a>b:\n",
    "        c=b\n",
    "        b=a\n",
    "        a=c\n",
    "    else:\n",
    "        a+=1\n",
    "fig.tight_layout()"
   ]
  },
  {
   "cell_type": "code",
   "execution_count": null,
   "id": "0e059596",
   "metadata": {},
   "outputs": [],
   "source": [
    "plt.figure(figsize=(12, 7))\n",
    "\n",
    "for i, company in enumerate(compList, 1):\n",
    "    plt.subplot(int(r), int(r), i)\n",
    "    company['Daily Data'] = company['Adj Close'].pct_change()\n",
    "    company['Daily Data'].hist(bins=50)\n",
    "    plt.ylabel('Daily Data')\n",
    "    plt.title(f'{stList[i - 1][1]}')\n",
    "    \n",
    "plt.tight_layout()"
   ]
  },
  {
   "cell_type": "code",
   "execution_count": null,
   "id": "aa6e611d",
   "metadata": {},
   "outputs": [],
   "source": [
    "#generic graph procedural method\n",
    "def gr(grapList, gTitle, xTitle, yTitle):\n",
    "    fig = sp(shared_xaxes=True, subplot_titles=(yTitle), vertical_spacing = .5)\n",
    "    if 'Revenue' in grapList:\n",
    "        for i in grapList.Company.unique():\n",
    "            filterList = grapList[grapList.Company == i]\n",
    "            fig.add_trace(g.Scatter(x=pd.to_datetime(filterList.Date, infer_datetime_format=True), y=filterList.Revenue.astype(\"float\"), name = i))\n",
    "    else:\n",
    "        for i in grapList:\n",
    "            if i != 'Date':\n",
    "                fig.add_trace(g.Scatter(x=pd.to_datetime(grapList.Date, infer_datetime_format=True), y=grapList[i].astype(\"float\"), name = i))\n",
    "    fig.update_xaxes(title_text=xTitle)\n",
    "    fig.update_yaxes(title_text=yTitle)\n",
    "    fig.update_layout(showlegend=False, height=1000, title=gTitle, xaxis_rangeslider_visible=True)\n",
    "    fig.show()"
   ]
  },
  {
   "cell_type": "code",
   "execution_count": null,
   "id": "eb1b2388",
   "metadata": {},
   "outputs": [],
   "source": [
    "gr(revenue, \"Revenue\",\"Date\",\"Revenue ($ Millions)\")"
   ]
  },
  {
   "cell_type": "code",
   "execution_count": null,
   "id": "b8c1155e",
   "metadata": {},
   "outputs": [],
   "source": [
    "gr(dfHist,'Price','Date',\"Price ($)\")"
   ]
  },
  {
   "cell_type": "markdown",
   "id": "d1b4dafe",
   "metadata": {},
   "source": [
    "### Algorithms & Mathematical Methods"
   ]
  },
  {
   "cell_type": "code",
   "execution_count": null,
   "id": "cf165e9e",
   "metadata": {},
   "outputs": [],
   "source": [
    "# calcLog for the periodBased on AdjClose\n",
    "F['F'] = np.log(F['Adj Close'] / F['Adj Close'].shift(1))\n",
    "BA['BA'] = np.log(BA['Adj Close'] / BA['Adj Close'].shift(1))\n",
    "GM['GM'] = np.log(GM['Adj Close'] / GM['Adj Close'].shift(1))\n",
    "VOD['VOD'] = np.log(VOD['Adj Close'] / VOD['Adj Close'].shift(1))"
   ]
  },
  {
   "cell_type": "code",
   "execution_count": null,
   "id": "738d1894",
   "metadata": {},
   "outputs": [],
   "source": [
    "# X (F, BA, GM) - Y (VOD)\n",
    "dfMath = DataReader(stockList, 'yahoo', startDate, endDate)['Adj Close']\n",
    "#pd.concat([F['F'], BA['BA'],  GM['GM'], VOD['VOD']], axis = 1).dropna()\n",
    "\n",
    "## toTheCsvFile\n",
    "dfMath.to_csv(\"linear_regression.csv\")\n",
    "\n",
    "dfMath.head()"
   ]
  },
  {
   "cell_type": "code",
   "execution_count": null,
   "id": "c3c0b720",
   "metadata": {},
   "outputs": [],
   "source": [
    "plt.figure(figsize = (15, 6))\n",
    "plt.rcParams.update({'font.size': 14})\n",
    "plt.xlabel(\"F Returns\")\n",
    "plt.ylabel(\"VOD returns\")\n",
    "plt.title(\"Daily Data Last 5 Years\")\n",
    "plt.scatter(dfMath['F'], dfMath['VOD'])\n",
    "plt.show()\n"
   ]
  },
  {
   "cell_type": "code",
   "execution_count": null,
   "id": "93539ea8",
   "metadata": {},
   "outputs": [],
   "source": [
    "# Make a new item returns DataFrame\n",
    "sItemReturns = dfMath.pct_change()\n",
    "sItemReturns.head()\n",
    "\n"
   ]
  },
  {
   "cell_type": "code",
   "execution_count": null,
   "id": "67aec5eb",
   "metadata": {},
   "outputs": [],
   "source": [
    "# show a linear relationship\n",
    "for i in stList:\n",
    "    sns.jointplot(x=i[0], y=i[0], data=sItemReturns, kind='scatter', color='orangered')"
   ]
  },
  {
   "cell_type": "code",
   "execution_count": null,
   "id": "40901b36",
   "metadata": {},
   "outputs": [],
   "source": [
    "sListTmp = []\n",
    "for stockItemOne in stList:\n",
    "    for stockItemTwo in stList:\n",
    "        if stockItemOne[0] != stockItemTwo[0] and stockItemTwo[0] not in sListTmp:\n",
    "            sns.jointplot(x=stockItemOne[0], y=stockItemTwo[0], data=sItemReturns, kind='scatter', color='magenta')\n",
    "    sListTmp.append(stockItemOne[0])"
   ]
  },
  {
   "cell_type": "code",
   "execution_count": null,
   "id": "cf0f4756",
   "metadata": {},
   "outputs": [],
   "source": [
    "sns.heatmap(sItemReturns.corr(), annot=True, cmap='autumn')"
   ]
  },
  {
   "cell_type": "code",
   "execution_count": null,
   "id": "93a93639",
   "metadata": {},
   "outputs": [],
   "source": [
    "sns.heatmap(dfMath.corr(), annot=True, cmap='winter')"
   ]
  },
  {
   "cell_type": "code",
   "execution_count": null,
   "id": "a66c2629",
   "metadata": {},
   "outputs": [],
   "source": [
    "def getLinearRegression(stockItemOne, stockItemTwo):\n",
    "    # 2a. Fit a simple linear regression model to the data using statsmodels \n",
    "    # Create an instance of the class OLS\n",
    "    slrSmModel = smf.ols(f'{stockItemOne} ~ {stockItemTwo}', data=dfMath)\n",
    "\n",
    "    # statsmodels calculates beta_0 and beta_1 here\n",
    "    slrSmModelFirst = slrSmModel.fit()\n",
    "\n",
    "    # Summary\n",
    "    #print(slrSmModelFirst.summary()) \n",
    "\n",
    "    paramSlr = slrSmModelFirst.params\n",
    "    print(\"\\n------------------------------------------------------------------\")\n",
    "    print(\"INTERCEPT and SLOPE\\n\")\n",
    "    #setMsgText\n",
    "    interceptMsg = \"The INTERCEPT in the statsmodels regression model =\" \n",
    "    slopeMsg = \"The SLOPE in the statsmodels regression model =\"\n",
    "    print(interceptMsg, np.round(paramSlr.Intercept, 4))\n",
    "    print(slopeMsg, np.round(paramSlr[stockItemTwo], 4))"
   ]
  },
  {
   "cell_type": "code",
   "execution_count": null,
   "id": "87dd5143",
   "metadata": {},
   "outputs": [],
   "source": [
    "sListTmp = []\n",
    "for stockItemOne in stList:\n",
    "    for stockItemTwo in stList:\n",
    "        if stockItemOne[0] != stockItemTwo[0] and stockItemTwo[0] not in sListTmp:\n",
    "            print(#\"\\n++++++++++++++++++++++++++++++++++++++++++++++++++\",\n",
    "                  \"\\n++++++++++++++++++++++++++++++++++++++++++++++++++\\n\",\n",
    "                  stockItemOne[1], \" - \", stockItemTwo[1], \n",
    "                  \" Linear Regression : \\n\")\n",
    "            getLinearRegression(stockItemOne[0],stockItemTwo[0])\n",
    "    sListTmp.append(stockItemOne[0])"
   ]
  },
  {
   "cell_type": "markdown",
   "id": "42bf6f74",
   "metadata": {},
   "source": [
    "### Programming Paradigms\n",
    "#### OOP Model"
   ]
  },
  {
   "cell_type": "code",
   "execution_count": null,
   "id": "16acd899",
   "metadata": {},
   "outputs": [],
   "source": [
    "class StockMarket:\n",
    "    def __init__(s, stockItemList):\n",
    "        s.endDate = datetime.now()\n",
    "        s.startDate = datetime(endDate.year - 10, endDate.month, endDate.day)\n",
    "        s.stockList = stockItemList\n",
    "        cList = []\n",
    "        for stockItem in s.stockList:\n",
    "            globals()[stockItem[0]] = yf.download(stockItem[0], startDate, endDate)\n",
    "            cList.append(globals()[stockItem[0]])\n",
    "        s.compList = cList\n",
    "        for comp, compName in zip(s.compList, s.stockList):\n",
    "            comp[\"Company\"] = compName[1]\n",
    "            s.df = pd.concat(s.compList, axis=0)\n",
    "    def getStockData(s):\n",
    "        historicData = pd.DataFrame()\n",
    "        for i in s.stockList:\n",
    "            stockData = yf.Ticker(i[0])\n",
    "            hist = stockData.history(period='max').Close\n",
    "            historicData[i[0]] = hist \n",
    "        s.historicData = historicData\n",
    "    def setToCsv(s):\n",
    "        s.historicData.to_csv('historic_class.csv')\n",
    "    def getReadAndCleanCsv(s):\n",
    "        dfHistory = pd.read_csv('historic_class.csv')\n",
    "        for stock in s.stockList:\n",
    "            if 0 != dfHistory.isnull()[f'{stock[0]}'].sum():\n",
    "                dfHistory[f'{stock[0]}'].fillna(0, inplace = True)\n",
    "        s.data = dfHistory"
   ]
  },
  {
   "cell_type": "code",
   "execution_count": null,
   "id": "c765fe6a",
   "metadata": {},
   "outputs": [],
   "source": [
    "class stockMarketCrawling:\n",
    "    def __init__(cr, stockItemList):\n",
    "        cr.stockList = stockItemList\n",
    "        cr.data = []\n",
    "        yTitle = \"Revenue ($ Millions)\"\n",
    "        gTitle = \"Revenue\"\n",
    "        fig = sp(shared_xaxes=True, subplot_titles=(\"Stock Market\"), vertical_spacing = .5)\n",
    "        rev = pd.DataFrame(columns=[\"Date\", \"Revenue\", \"Company\"])   \n",
    "        for detail in cr.stockList:\n",
    "            url=f'https://www.macrotrends.net/stocks/charts/{detail[0]}/{detail[1]}/revenue'\n",
    "            htmlText = req.get(url).text\n",
    "            soup = BeautifulSoup(htmlText, \"html.parser\")\n",
    "            tables = soup.find_all('table')\n",
    "            tableIndex=0\n",
    "            for index, table in enumerate(tables):\n",
    "                if ('Annual Revenue'in str(table)):\n",
    "                    tableIndex=index\n",
    "            for row in tables[tableIndex].tbody.find_all(\"tr\"):\n",
    "                col = row.find_all(\"td\")\n",
    "                if (col!=[]):\n",
    "                    date =col[0].text\n",
    "                    revenue =col[1].text.replace(\"$\", \"\").replace(\",\", \"\")\n",
    "                    company = detail[1] \n",
    "                rev = pd.concat([rev, pd.DataFrame.from_records([{'Date':date,'Revenue':revenue, 'Company':company}])])\n",
    "            rev = rev[rev['Revenue']!='']   \n",
    "        for i in rev.Company.unique():\n",
    "            filterList = rev[rev.Company == i]\n",
    "            fig.add_trace(g.Scatter(x=pd.to_datetime(filterList.Date, infer_datetime_format=True), y=filterList.Revenue.astype(\"float\"), name = i))\n",
    "        cr.data.append(rev)\n",
    "        \n",
    "        fig.update_xaxes(title_text=\"Date\")\n",
    "        fig.update_yaxes(title_text=yTitle)\n",
    "        fig.update_layout(showlegend=False, height=1000, title=gTitle, xaxis_rangeslider_visible=True)\n",
    "        fig.show()"
   ]
  },
  {
   "cell_type": "code",
   "execution_count": null,
   "id": "0f5dac06",
   "metadata": {},
   "outputs": [],
   "source": [
    "class stockMarketVisualization:\n",
    "    def __init__(vl, obj):\n",
    "        vl.stockList = obj.stockList\n",
    "        vl.data = obj.data\n",
    "        vl.compList = obj.compList\n",
    "    def getGraph(vl):\n",
    "        fig = sp(shared_xaxes=True, subplot_titles=(\"Stock Market\"), vertical_spacing = .5)\n",
    "        yTitle = \"Price ($)\"\n",
    "        gTitle = \"Price\"\n",
    "        for i in vl.data:\n",
    "            if i != 'Date':\n",
    "                fig.add_trace(g.Scatter(x=pd.to_datetime(vl.data.Date, infer_datetime_format=True), y=vl.data[i].astype(\"float\"), name = i))\n",
    "        fig.update_xaxes(title_text=\"Date\")\n",
    "        fig.update_yaxes(title_text=yTitle)\n",
    "        fig.update_layout(showlegend=False, height=1000, title=gTitle, xaxis_rangeslider_visible=True)\n",
    "        fig.show()\n",
    "    def summaryGr(vl):\n",
    "        plt.figure(figsize=(15, 10))\n",
    "        for i, company in enumerate(vl.compList, 1):\n",
    "            plt.subplot(2, 2, i)\n",
    "            company['Adj Close'].plot()\n",
    "            plt.ylabel('Adjusted Close')\n",
    "            plt.xlabel(None)\n",
    "            plt.title(f\"{vl.stockList[i - 1][1]}\", fontsize=24)\n",
    "        plt.tight_layout()"
   ]
  },
  {
   "cell_type": "code",
   "execution_count": null,
   "id": "418fdebe",
   "metadata": {},
   "outputs": [],
   "source": [
    "stock = StockMarket(stList)"
   ]
  },
  {
   "cell_type": "code",
   "execution_count": null,
   "id": "f9907f98",
   "metadata": {},
   "outputs": [],
   "source": [
    "stock.getStockData()\n",
    "stock.setToCsv()\n",
    "stock.getReadAndCleanCsv()"
   ]
  },
  {
   "cell_type": "code",
   "execution_count": null,
   "id": "80f51b5c",
   "metadata": {},
   "outputs": [],
   "source": [
    "graph = stockMarketVisualization(stock)"
   ]
  },
  {
   "cell_type": "code",
   "execution_count": null,
   "id": "b648ac19",
   "metadata": {},
   "outputs": [],
   "source": [
    "graph.summaryGr()"
   ]
  },
  {
   "cell_type": "code",
   "execution_count": null,
   "id": "281d4d03",
   "metadata": {},
   "outputs": [],
   "source": [
    "graph.getGraph()"
   ]
  },
  {
   "cell_type": "code",
   "execution_count": null,
   "id": "b8aad912",
   "metadata": {},
   "outputs": [],
   "source": [
    "data = stockMarketCrawling(stList)"
   ]
  },
  {
   "cell_type": "code",
   "execution_count": null,
   "id": "d9e59d18",
   "metadata": {},
   "outputs": [],
   "source": []
  }
 ],
 "metadata": {
  "kernelspec": {
   "display_name": "Python 3 (ipykernel)",
   "language": "python",
   "name": "python3"
  },
  "language_info": {
   "codemirror_mode": {
    "name": "ipython",
    "version": 3
   },
   "file_extension": ".py",
   "mimetype": "text/x-python",
   "name": "python",
   "nbconvert_exporter": "python",
   "pygments_lexer": "ipython3",
   "version": "3.9.12"
  }
 },
 "nbformat": 4,
 "nbformat_minor": 5
}
